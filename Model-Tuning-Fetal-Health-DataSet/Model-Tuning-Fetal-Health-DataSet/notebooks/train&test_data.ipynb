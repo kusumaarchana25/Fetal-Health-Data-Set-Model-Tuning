{
 "cells": [
  {
   "cell_type": "markdown",
   "metadata": {},
   "source": [
    "### Fetal Health Prediction using Classification Techniques"
   ]
  },
  {
   "cell_type": "markdown",
   "metadata": {},
   "source": [
    "Classify fetal health in order to prevent child and maternal mortality."
   ]
  },
  {
   "cell_type": "code",
   "execution_count": 1,
   "metadata": {},
   "outputs": [],
   "source": [
    "#importing the libraries\n",
    "import pickle\n",
    "import pandas as pd\n",
    "import matplotlib.pyplot as plt\n",
    "import seaborn as sns\n",
    "\n",
    "from sklearn.model_selection import train_test_split\n",
    "from sklearn.model_selection import GridSearchCV, RandomizedSearchCV\n",
    "from sklearn.model_selection import KFold, StratifiedKFold, cross_val_score\n",
    "from sklearn.preprocessing import StandardScaler\n",
    "\n",
    "from sklearn.linear_model import LogisticRegression\n",
    "from sklearn.neighbors import KNeighborsClassifier\n",
    "from sklearn.naive_bayes import GaussianNB\n",
    "from sklearn.svm import SVC\n",
    "from sklearn.tree import DecisionTreeClassifier\n",
    "from sklearn.ensemble import RandomForestClassifier\n",
    "from sklearn.ensemble import GradientBoostingClassifier\n",
    "\n",
    "from sklearn.metrics import classification_report\n",
    "from sklearn.metrics import accuracy_score\n",
    "from sklearn.metrics import confusion_matrix\n",
    "from sklearn.metrics import f1_score\n",
    "from sklearn.metrics import recall_score\n",
    "from sklearn.metrics import precision_score\n",
    "\n",
    "from sklearn.pipeline import Pipeline, make_pipeline"
   ]
  },
  {
   "cell_type": "code",
   "execution_count": 2,
   "metadata": {},
   "outputs": [],
   "source": [
    "#load a pickle file\n",
    "#convert to pandas data frame\n",
    "def load_dataset(df):\n",
    "    df=pickle.load(open(df,'rb'))\n",
    "    df=pd.DataFrame(df)\n",
    "    df=df.values\n",
    "    X=df[:,:-1]\n",
    "    y=df[:,-1]\n",
    "    return X,y\n",
    "\n",
    "#splitting the data into train and test data\n",
    "def split_data(X,y):\n",
    "    X_train,X_test,y_train,y_test=train_test_split(X,y,test_size=0.3,random_state=1)#stratify=y\n",
    "    return X_train,X_test,y_train,y_test\n",
    "\n",
    "#Scaling the dataset\n",
    "#standard scaler for independent variables\n",
    "def scaler(X):\n",
    "    scaler=StandardScaler()\n",
    "    X=scaler.fit_transform(X)\n",
    "    X=pd.DataFrame(X)\n",
    "    return X\n",
    "\n",
    "#evaluation function\n",
    "def evaluation(y_test,y_pred):\n",
    "    #print accuracy, recall, f1 score, precision metrics\n",
    "    print('evaluation metrics:')\n",
    "    print('classification_report',classification_report(y_test,y_pred))\n",
    "    print('accuracy: ', accuracy_score(y_test,y_pred))\n",
    "    print('recall: '  , recall_score(y_test,y_pred))\n",
    "    print('f1_score: ', f1_score(y_test,y_pred))\n",
    "    print('precision: ',precision_score(y_test,y_pred))\n",
    "    #print confusion matrix\n",
    "    print('\\nconfusion matrix:')\n",
    "    print('TN,FP,FN,TP')\n",
    "    print('confusion matrix: ',confusion_matrix(y_test,y_pred))\n",
    "    return"
   ]
  },
  {
   "cell_type": "code",
   "execution_count": 4,
   "metadata": {},
   "outputs": [],
   "source": [
    "#load the EDA pickle file\n",
    "df=\"C:\\\\Users\\\\acer\\\\Desktop\\\\ModelTuning_FetalHealth\\\\models\\\\ExploratoryDataAnalysis.pkl\"\n",
    "X,y=load_dataset(df)\n",
    "#split the data into train and test data\n",
    "X_train,X_test,y_train,y_test=split_data(X,y)\n",
    "#scaling the train and test data\n",
    "X_train=scaler(X_train)\n",
    "X_test=scaler(X_test)"
   ]
  },
  {
   "cell_type": "code",
   "execution_count": 9,
   "metadata": {},
   "outputs": [
    {
     "name": "stderr",
     "output_type": "stream",
     "text": [
      "c:\\Python310\\lib\\site-packages\\sklearn\\linear_model\\_logistic.py:444: ConvergenceWarning: lbfgs failed to converge (status=1):\n",
      "STOP: TOTAL NO. of ITERATIONS REACHED LIMIT.\n",
      "\n",
      "Increase the number of iterations (max_iter) or scale the data as shown in:\n",
      "    https://scikit-learn.org/stable/modules/preprocessing.html\n",
      "Please also refer to the documentation for alternative solver options:\n",
      "    https://scikit-learn.org/stable/modules/linear_model.html#logistic-regression\n",
      "  n_iter_i = _check_optimize_result(\n"
     ]
    },
    {
     "name": "stdout",
     "output_type": "stream",
     "text": [
      "Logistic Regression : 88.49%\n",
      "Naive Bayes : 7.89%\n",
      "Support Vector Classifier-linear : 89.27%\n",
      "Support Vector Classifier-Non linear : 89.12%\n",
      "Decision Tree Classifier : 89.91%\n",
      "Random Forest Classifier : 91.80%\n",
      "Gradient Boosting Classifier : 93.38%\n"
     ]
    }
   ],
   "source": [
    "#model building\n",
    "models = {'Logistic Regression':LogisticRegression(),\n",
    "              'Naive Bayes':GaussianNB(),\n",
    "              'Support Vector Classifier-linear':SVC(kernel='linear'),\n",
    "              'Support Vector Classifier-Non linear':SVC(),\n",
    "              'Decision Tree Classifier':DecisionTreeClassifier(),\n",
    "              'Random Forest Classifier':RandomForestClassifier(),\n",
    "              'Gradient Boosting Classifier':GradientBoostingClassifier()\n",
    "              }#'KNN Classifier':KNeighborsClassifier(),\n",
    "\n",
    "for index, model in models.items():\n",
    "    #build the model\n",
    "    model.fit(X_train,y_train)\n",
    "    y_pred=model.predict(X_test)\n",
    "    print(index + \" : {:.2f}%\".format(accuracy_score(y_pred,y_test)*100))"
   ]
  },
  {
   "cell_type": "markdown",
   "metadata": {},
   "source": [
    "KFold Cross validation "
   ]
  },
  {
   "cell_type": "code",
   "execution_count": 10,
   "metadata": {},
   "outputs": [
    {
     "name": "stdout",
     "output_type": "stream",
     "text": [
      "0.9418526031102097\n"
     ]
    }
   ],
   "source": [
    "#performs the evaluation\n",
    "kfcv=KFold(n_splits=3, random_state=1, shuffle=True)\n",
    "scores = cross_val_score(model, X_train, y_train, cv=kfcv, scoring='accuracy', n_jobs=-1)\n",
    "print(scores.mean())\n",
    "#accuracy score which is normalized i.e between the value from 0-1, where 0 means none of the output were accurate and 1 means every prediction was accurate."
   ]
  },
  {
   "cell_type": "markdown",
   "metadata": {},
   "source": [
    "StratifiedKFold Cross Validaition"
   ]
  },
  {
   "cell_type": "code",
   "execution_count": 11,
   "metadata": {},
   "outputs": [
    {
     "name": "stdout",
     "output_type": "stream",
     "text": [
      "0.9546991210277215\n"
     ]
    }
   ],
   "source": [
    "#performs the evaluation\n",
    "skcv=StratifiedKFold(n_splits=3,random_state=42,shuffle=True)\n",
    "scores = cross_val_score(model, X_train, y_train, cv=skcv, scoring='accuracy', n_jobs=-1)\n",
    "print(scores.mean())\n",
    "#accuracy score which is normalized i.e between the value from 0-1, where 0 means none of the output were accurate and 1 means every prediction was accurate."
   ]
  },
  {
   "cell_type": "code",
   "execution_count": 8,
   "metadata": {},
   "outputs": [],
   "source": [
    "# function to make a pipeline with classifier input\n",
    "#def pipe_maker(classifier):\n",
    "#   '''Takes in a classifier, returns a pipeline'''\n",
    "#   pipe = Pipeline([('clf', classifier(random_state=42))])\n",
    "#    return pipe\n",
    "\n",
    "# function to create a grid search containing pipeline\n",
    "#def gridsearch_maker(pipeline, params):\n",
    "#   '''Takes in a pipeline and param grid, returns GridSearchCV object'''\n",
    "#   return GridSearchCV(estimator=pipeline,\n",
    "#                       param_grid=params,\n",
    "#                        scoring='recall',cv=10,n_jobs=-1)\n",
    "\n",
    "# setting generic grid search parameters\n",
    "param_range = [1, 2, 3, 4, 5, 6, 7, 8, 9, 10]\n",
    "param_range_small = [1.0, 0.5, 0.1]"
   ]
  },
  {
   "cell_type": "markdown",
   "metadata": {},
   "source": [
    "Hyparameter Tuning with GridsearchCV"
   ]
  },
  {
   "cell_type": "code",
   "execution_count": 17,
   "metadata": {},
   "outputs": [
    {
     "name": "stdout",
     "output_type": "stream",
     "text": [
      "Best estimator values for LGRmodel: LogisticRegression(penalty='l1', solver='liblinear')\n",
      "\n",
      "Best parameter values:  {'C': 1.0, 'penalty': 'l1', 'solver': 'liblinear'}\n",
      "\n",
      "Best Score - LR: 0.8938471940500339\n"
     ]
    },
    {
     "data": {
      "image/png": "[encoded data removed]",
      "text/plain": [
       "<Figure size 432x288 with 2 Axes>"
      ]
     },
     "metadata": {},
     "output_type": "display_data"
    }
   ],
   "source": [
    "#Parameter tuning with GridSearchCV-Logistic Regression\n",
    "estimator_lr = LogisticRegression()\n",
    "parameters_lr = [{'penalty': ['l1', 'l2'],\n",
    "                   'C': param_range_small,\n",
    "                   'solver': ['liblinear']}]\n",
    "# with GridSearch\n",
    "grid_search_lr = GridSearchCV(estimator=estimator_lr,param_grid=parameters_lr,\n",
    "                               scoring = 'accuracy',n_jobs = -1,cv = kfcv)\n",
    "grid_search_lr.fit(X_train, y_train)\n",
    "\n",
    "y_pred_lr =grid_search_lr.predict(X_test)\n",
    "\n",
    "# Get the best estimator values.\n",
    "print(\"Best estimator values for LGRmodel:\", grid_search_lr.best_estimator_)\n",
    "\n",
    "#Parameter setting that gave the best results on the hold out data.\n",
    "print(\"\\nBest parameter values: \", grid_search_lr.best_params_ )\n",
    "\n",
    "#Mean cross-validated score of the best_estimator\n",
    "print('\\nBest Score - LR:', grid_search_lr.best_score_ )\n",
    "sns.set(rc={'figure.facecolor':'pink'})\n",
    "ax= plt.subplot()\n",
    "sns.heatmap(confusion_matrix(y_test, y_pred_lr), annot=True, ax = ax, cmap = \"Blues\");\n",
    "\n",
    "# labels, title and ticks\n",
    "ax.set_xlabel(\"Predicted labels\");\n",
    "ax.set_ylabel(\"Actual labels\"); \n",
    "ax.set_title(\"Confusion Matrix\"); \n",
    "ax.xaxis.set_ticklabels([\"Normal\", \"Suspect\", \"Pathological\"]);"
   ]
  },
  {
   "cell_type": "code",
   "execution_count": null,
   "metadata": {},
   "outputs": [
    {
     "name": "stdout",
     "output_type": "stream",
     "text": [
      "Best estimator values for KNN model: KNeighborsClassifier(leaf_size=20, n_neighbors=10, p=1, weights='distance')\n",
      "\n",
      "Best parameter values:  {'leaf_size': 20, 'metric': 'minkowski', 'n_neighbors': 10, 'p': 1, 'weights': 'distance'}\n",
      "\n",
      "Best Score - KNN: 0.9045698924731184\n"
     ]
    },
    {
     "data": {
      "image/png": "[encoded data removed]",
      "text/plain": [
       "<Figure size 432x288 with 2 Axes>"
      ]
     },
     "metadata": {
      "needs_background": "light"
     },
     "output_type": "display_data"
    }
   ],
   "source": [
    "#Parameter tuning with GridSearchCV -KNNC\n",
    "estimator_KNN = KNeighborsClassifier(algorithm='auto')\n",
    "parameters_KNN = {\n",
    "    'n_neighbors': (1,10, 1),\n",
    "    'leaf_size': (20,40,1),\n",
    "    'p': (1,2),\n",
    "    'weights': ('uniform', 'distance'),\n",
    "    'metric': ('minkowski', 'chebyshev')}\n",
    "# with GridSearch\n",
    "grid_search_KNN = GridSearchCV(estimator=estimator_KNN,param_grid=parameters_KNN,\n",
    "                               scoring = 'accuracy',n_jobs = -1,cv = kfcv)\n",
    "grid_search_KNN.fit(X_train, y_train)\n",
    "\n",
    "y_pred_KNN =grid_search_KNN.predict(X_test)\n",
    "\n",
    "# Get the best estimator values.\n",
    "print(\"Best estimator values for KNN model:\", grid_search_KNN.best_estimator_)\n",
    "\n",
    "#Parameter setting that gave the best results on the hold out data.\n",
    "print(\"\\nBest parameter values: \", grid_search_KNN.best_params_ ) \n",
    "\n",
    "#Mean cross-validated score of the best_estimator\n",
    "print('\\nBest Score - KNN:', grid_search_KNN.best_score_ )\n",
    "\n",
    "ax= plt.subplot()\n",
    "sns.heatmap(confusion_matrix(y_test, y_pred_KNN), annot=True, ax = ax, cmap = \"Blues\");\n",
    "\n",
    "# labels, title and ticks\n",
    "ax.set_xlabel(\"Predicted labels\");\n",
    "ax.set_ylabel(\"Actual labels\"); \n",
    "ax.set_title(\"Confusion Matrix\"); \n",
    "ax.xaxis.set_ticklabels([\"Normal\", \"Suspect\", \"Pathological\"]);"
   ]
  },
  {
   "cell_type": "code",
   "execution_count": 18,
   "metadata": {},
   "outputs": [
    {
     "name": "stdout",
     "output_type": "stream",
     "text": [
      "Best estimator values for SVC model: SVC(kernel='linear')\n",
      "\n",
      "Best parameter values:  {'kernel': 'linear'}\n",
      "\n",
      "Best Score - SVC: 0.9053414469235971\n"
     ]
    },
    {
     "data": {
      "image/png": "[encoded data removed]",
      "text/plain": [
       "<Figure size 432x288 with 2 Axes>"
      ]
     },
     "metadata": {},
     "output_type": "display_data"
    }
   ],
   "source": [
    "#gridsearch and randomsearch-SVC\n",
    "estimator_svc = SVC()\n",
    "parameters = [{ 'kernel': ['linear']},\n",
    "             { 'kernel': ['rbf'],\n",
    "              'gamma': [0.1, 0.2, 0.3,0.4,0.5,0.6,0.7]}]\n",
    "\n",
    "grid_params_svm = [{'kernel': ['linear', 'rbf'],\n",
    "                    'C': param_range}]\n",
    "\n",
    "grid_search_svc = GridSearchCV(estimator=estimator_svc,\n",
    "                          param_grid=parameters,\n",
    "                          scoring='accuracy',\n",
    "                          cv=kfcv,\n",
    "                          n_jobs=-1)\n",
    "grid_search_svc.fit(X_train, y_train)\n",
    "\n",
    "y_pred_svc =grid_search_svc.predict(X_test)\n",
    "\n",
    "# Get the best estimator values.\n",
    "print(\"Best estimator values for SVC model:\", grid_search_svc.best_estimator_)\n",
    "\n",
    "#Parameter setting that gave the best results on the hold out data.\n",
    "print(\"\\nBest parameter values: \", grid_search_svc.best_params_ ) \n",
    "\n",
    "#Mean cross-validated score of the best_estimator\n",
    "print('\\nBest Score - SVC:', grid_search_svc.best_score_ )\n",
    "\n",
    "ax= plt.subplot()\n",
    "sns.heatmap(confusion_matrix(y_test, y_pred_svc), annot=True, ax = ax, cmap = \"Blues\");\n",
    "\n",
    "# labels, title and ticks\n",
    "ax.set_xlabel(\"Predicted labels\");\n",
    "ax.set_ylabel(\"Actual labels\"); \n",
    "ax.set_title(\"Confusion Matrix\"); \n",
    "ax.xaxis.set_ticklabels([\"Normal\", \"Suspect\", \"Pathological\"]);"
   ]
  },
  {
   "cell_type": "code",
   "execution_count": 19,
   "metadata": {},
   "outputs": [
    {
     "name": "stdout",
     "output_type": "stream",
     "text": [
      "Best estimator values for RFC model: RandomForestClassifier(max_depth=10)\n",
      "\n",
      "Best parameter values:  {'criterion': 'gini', 'max_depth': 10, 'min_samples_leaf': 1, 'min_samples_split': 2}\n",
      "\n",
      "Best Score - RFC: 0.9425287356321839\n"
     ]
    },
    {
     "data": {
      "image/png": "[encoded data removed]",
      "text/plain": [
       "<Figure size 432x288 with 2 Axes>"
      ]
     },
     "metadata": {},
     "output_type": "display_data"
    }
   ],
   "source": [
    "# fitting Random Forest pipeline\n",
    "estimator_rfc = RandomForestClassifier()\n",
    "# setting grid search parameters\n",
    "grid_params_rfc= [{'criterion': ['gini', 'entropy'],\n",
    "                   'min_samples_leaf': param_range,\n",
    "                   'max_depth': param_range,\n",
    "                   'min_samples_split': param_range[1:]}]\n",
    "# creating grid search object\n",
    "grid_search_rfc = GridSearchCV(estimator=estimator_rfc,\n",
    "                          param_grid=grid_params_rfc,\n",
    "                          scoring='accuracy',\n",
    "                          cv=kfcv,\n",
    "                          n_jobs=-1)\n",
    "grid_search_rfc.fit(X_train, y_train)\n",
    "#rfc_classification=grid_search_rfc.fit(X_train, y_train)\n",
    "\n",
    "y_pred_rfc =grid_search_rfc.predict(X_test)\n",
    "\n",
    "# Get the best estimator values.\n",
    "print(\"Best estimator values for RFC model:\", grid_search_rfc.best_estimator_)\n",
    "\n",
    "#Parameter setting that gave the best results on the hold out data.\n",
    "print(\"\\nBest parameter values: \", grid_search_rfc.best_params_ ) \n",
    "\n",
    "#Mean cross-validated score of the best_estimator\n",
    "print('\\nBest Score - RFC:', grid_search_rfc.best_score_ )\n",
    "\n",
    "ax= plt.subplot()\n",
    "sns.heatmap(confusion_matrix(y_test, y_pred_rfc), annot=True, ax = ax, cmap = \"Blues\");\n",
    "\n",
    "# labels, title and ticks\n",
    "ax.set_xlabel(\"Predicted labels\");\n",
    "ax.set_ylabel(\"Actual labels\"); \n",
    "ax.set_title(\"Confusion Matrix\"); \n",
    "ax.xaxis.set_ticklabels([\"Normal\", \"Suspect\", \"Pathological\"]);"
   ]
  },
  {
   "cell_type": "code",
   "execution_count": 21,
   "metadata": {},
   "outputs": [],
   "source": [
    "# important_features = pd.DataFrame({'Features': X_train.columns, \n",
    "#                                    'Importance': rfc_classification.feature_importances_})\n",
    "# # sort the dataframe in the descending order according to the feature importance\n",
    "# important_features = important_features.sort_values('Importance', ascending = False)\n",
    "# # create a barplot to visualize the features based on their importance\n",
    "# sns.barplot(x = 'Importance', y = 'Features', data = important_features)\n",
    "\n",
    "# # add plot and axes labels\n",
    "# # set text size using 'fontsize'\n",
    "# plt.title('Feature Importance', fontsize = 15)\n",
    "# plt.xlabel('Importance', fontsize = 15)\n",
    "# plt.ylabel('Features', fontsize = 15)"
   ]
  },
  {
   "cell_type": "code",
   "execution_count": 22,
   "metadata": {},
   "outputs": [
    {
     "name": "stdout",
     "output_type": "stream",
     "text": [
      "Best estimator values for DTC model: DecisionTreeClassifier(max_depth=5, min_samples_split=9)\n",
      "\n",
      "Best parameter values:  {'criterion': 'gini', 'max_depth': 5, 'min_samples_leaf': 1, 'min_samples_split': 9}\n",
      "\n",
      "Best Score - DTC: 0.9283299526707234\n"
     ]
    },
    {
     "data": {
      "image/png": "[encoded data removed]",
      "text/plain": [
       "<Figure size 432x288 with 2 Axes>"
      ]
     },
     "metadata": {},
     "output_type": "display_data"
    }
   ],
   "source": [
    "# fitting Decision Tree Classifier pipeline\n",
    "estimator_dtc = DecisionTreeClassifier()\n",
    "# setting grid search parameters\n",
    "grid_params_dtc= [{'criterion': ['gini', 'entropy'],\n",
    "                   'min_samples_leaf': param_range,\n",
    "                   'max_depth': param_range,\n",
    "                   'min_samples_split': param_range[1:]}]\n",
    "# creating grid search object\n",
    "grid_search_dtc = GridSearchCV(estimator=estimator_dtc,\n",
    "                          param_grid=grid_params_dtc,\n",
    "                          scoring='accuracy',\n",
    "                          cv=kfcv,\n",
    "                          n_jobs=-1)\n",
    "grid_search_dtc.fit(X_train, y_train)\n",
    "\n",
    "y_pred_dtc =grid_search_dtc.predict(X_test)\n",
    "\n",
    "# Get the best estimator values.\n",
    "print(\"Best estimator values for DTC model:\", grid_search_dtc.best_estimator_)\n",
    "\n",
    "#Parameter setting that gave the best results on the hold out data.\n",
    "print(\"\\nBest parameter values: \", grid_search_dtc.best_params_ ) \n",
    "\n",
    "#Mean cross-validated score of the best_estimator\n",
    "print('\\nBest Score - DTC:', grid_search_dtc.best_score_ )\n",
    "\n",
    "ax= plt.subplot()\n",
    "sns.heatmap(confusion_matrix(y_test, y_pred_dtc), annot=True, ax = ax, cmap = \"Blues\");\n",
    "\n",
    "# labels, title and ticks\n",
    "ax.set_xlabel(\"Predicted labels\");\n",
    "ax.set_ylabel(\"Actual labels\"); \n",
    "ax.set_title(\"Confusion Matrix\"); \n",
    "ax.xaxis.set_ticklabels([\"Normal\", \"Suspect\", \"Pathological\"]);"
   ]
  },
  {
   "cell_type": "code",
   "execution_count": 23,
   "metadata": {},
   "outputs": [
    {
     "name": "stdout",
     "output_type": "stream",
     "text": [
      "Best estimator values for GBC model: GradientBoostingClassifier(max_depth=8, min_samples_leaf=8, min_samples_split=7)\n",
      "\n",
      "Best parameter values:  {'max_depth': 8, 'min_samples_leaf': 8, 'min_samples_split': 7}\n",
      "\n",
      "Best Score - GBC: 0.949290060851927\n"
     ]
    },
    {
     "data": {
      "image/png": "[encoded data removed]",
      "text/plain": [
       "<Figure size 432x288 with 2 Axes>"
      ]
     },
     "metadata": {},
     "output_type": "display_data"
    }
   ],
   "source": [
    "# fitting Gradient Boosting pipeline\n",
    "estimator_gbc = GradientBoostingClassifier()\n",
    "# setting grid search parameters\n",
    "grid_params_gbc= [{'min_samples_leaf': param_range,\n",
    "                   'max_depth': param_range,\n",
    "                   'min_samples_split': param_range[1:]}]#'criterion': ['gini', 'entropy']\n",
    "# creating grid search object\n",
    "grid_search_gbc = GridSearchCV(estimator=estimator_gbc,\n",
    "                          param_grid=grid_params_gbc,\n",
    "                          scoring='accuracy',\n",
    "                          cv=kfcv,\n",
    "                          n_jobs=-1)\n",
    "grid_search_gbc.fit(X_train, y_train)\n",
    "\n",
    "y_pred_gbc =grid_search_gbc.predict(X_test)\n",
    "\n",
    "# Get the best estimator values.\n",
    "print(\"Best estimator values for GBC model:\", grid_search_gbc.best_estimator_)\n",
    "\n",
    "#Parameter setting that gave the best results on the hold out data.\n",
    "print(\"\\nBest parameter values: \", grid_search_gbc.best_params_ ) \n",
    "\n",
    "#Mean cross-validated score of the best_estimator\n",
    "print('\\nBest Score - GBC:', grid_search_gbc.best_score_ )\n",
    "\n",
    "ax= plt.subplot()\n",
    "sns.heatmap(confusion_matrix(y_test, y_pred_gbc), annot=True, ax = ax, cmap = \"Blues\");\n",
    "\n",
    "# labels, title and ticks\n",
    "ax.set_xlabel(\"Predicted labels\");\n",
    "ax.set_ylabel(\"Actual labels\"); \n",
    "ax.set_title(\"Confusion Matrix\"); \n",
    "ax.xaxis.set_ticklabels([\"Normal\", \"Suspect\", \"Pathological\"]);"
   ]
  },
  {
   "cell_type": "markdown",
   "metadata": {},
   "source": [
    "We tried different algorithms for fetal-health dataset among them the Random Forest and Gradient boosting algorithms are performing best for this dataset with an accuracy of 94% on the test dataset."
   ]
  },
  {
   "cell_type": "code",
   "execution_count": 25,
   "metadata": {},
   "outputs": [],
   "source": [
    "with open(r'C:\\Users\\acer\\Desktop\\ModelTuning_FetalHealth\\models\\train&test_best_model.pkl','wb') as f:\n",
    "    pickle.dump(grid_params_gbc,f)"
   ]
  }
 ],
 "metadata": {
  "kernelspec": {
   "display_name": "Python 3.10.2 64-bit",
   "language": "python",
   "name": "python3"
  },
  "language_info": {
   "codemirror_mode": {
    "name": "ipython",
    "version": 3
   },
   "file_extension": ".py",
   "mimetype": "text/x-python",
   "name": "python",
   "nbconvert_exporter": "python",
   "pygments_lexer": "ipython3",
   "version": "3.10.2"
  },
  "orig_nbformat": 4,
  "vscode": {
   "interpreter": {
    "hash": "369f2c481f4da34e4445cda3fffd2e751bd1c4d706f27375911949ba6bb62e1c"
   }
  }
 },
 "nbformat": 4,
 "nbformat_minor": 2
}
